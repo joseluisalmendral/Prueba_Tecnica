{
 "cells": [
  {
   "cell_type": "markdown",
   "metadata": {},
   "source": [
    "### Fase 4: Creación de un Sistema de Recomendación\n",
    "Diseña y desarrolla un sistema de recomendación basado en los datos recopilados.\n",
    "\n",
    "**Modelos recomendados:**\n",
    "- **Modelo colaborativo:** Basado en las preferencias de los usuarios.\n",
    "- **Modelo basado en contenido:** Considerando géneros, directores y calificaciones.\n",
    "\n",
    "El sistema debe permitir sugerir películas personalizadas para diferentes tipos de usuarios.\n",
    "\n",
    "---"
   ]
  },
  {
   "cell_type": "markdown",
   "metadata": {},
   "source": [
    "## Importamos librerías y configuraciones."
   ]
  },
  {
   "cell_type": "code",
   "execution_count": 1,
   "metadata": {},
   "outputs": [],
   "source": [
    "%load_ext autoreload\n",
    "%autoreload 2\n",
    "\n",
    "from config import *"
   ]
  },
  {
   "cell_type": "markdown",
   "metadata": {},
   "source": [
    "---\n",
    "---\n",
    "## Creacion Sistema de Recomendacion\n",
    "\n",
    "#### voy a realizar un sistema de recomendacion basado en contenido segun los argumentos de las peliculas.\n",
    "\n",
    "#### posteriormente si me da tiempo, haré otro por popularidad segun Calificación, Director o Guionista."
   ]
  },
  {
   "cell_type": "code",
   "execution_count": null,
   "metadata": {},
   "outputs": [],
   "source": []
  }
 ],
 "metadata": {
  "kernelspec": {
   "display_name": "dev",
   "language": "python",
   "name": "python3"
  },
  "language_info": {
   "codemirror_mode": {
    "name": "ipython",
    "version": 3
   },
   "file_extension": ".py",
   "mimetype": "text/x-python",
   "name": "python",
   "nbconvert_exporter": "python",
   "pygments_lexer": "ipython3",
   "version": "3.11.8"
  }
 },
 "nbformat": 4,
 "nbformat_minor": 2
}
