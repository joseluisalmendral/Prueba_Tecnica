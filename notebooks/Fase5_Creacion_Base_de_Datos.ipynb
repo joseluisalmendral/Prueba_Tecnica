{
 "cells": [
  {
   "cell_type": "markdown",
   "metadata": {},
   "source": [
    "### Fase 5: Creación de una Base de Datos\n",
    "Organiza toda la información recopilada en una base de datos SQL bien estructurada. Define las tablas y relaciones necesarias para almacenar los datos de manera eficiente.\n",
    "\n",
    "---"
   ]
  },
  {
   "cell_type": "markdown",
   "metadata": {},
   "source": [
    "#### Por temas de tiempo no me es posible implementar el código, por lo que dejo la estructura de como haría la base de datos con los datos que tengo."
   ]
  },
  {
   "cell_type": "markdown",
   "metadata": {},
   "source": [
    "![db_structure](../utils/db_structure.png)"
   ]
  }
 ],
 "metadata": {
  "language_info": {
   "name": "python"
  }
 },
 "nbformat": 4,
 "nbformat_minor": 2
}
