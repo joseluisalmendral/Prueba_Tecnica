{
 "cells": [
  {
   "cell_type": "markdown",
   "metadata": {},
   "source": [
    "### Fase 2: Extracción de Detalles de Películas con Selenium\n",
    "Utiliza Selenium para obtener información adicional de las películas listadas previamente.\n",
    "\n",
    "**Información requerida:**\n",
    "- Calificación de IMDB.\n",
    "- Dirección (director o directores).\n",
    "- Guionistas.\n",
    "- Argumento.\n",
    "- Duración (en minutos).\n",
    "\n",
    "**Nota:** Los datos obtenidos deberán almacenarse en una lista de tuplas.\n",
    "\n",
    "---"
   ]
  },
  {
   "cell_type": "markdown",
   "metadata": {},
   "source": [
    "## Importamos librerías y configuraciones"
   ]
  },
  {
   "cell_type": "code",
   "execution_count": 1,
   "metadata": {},
   "outputs": [],
   "source": [
    "%load_ext autoreload\n",
    "%autoreload 2\n",
    "\n",
    "from config import *"
   ]
  },
  {
   "cell_type": "markdown",
   "metadata": {},
   "source": [
    "---\n",
    "---\n",
    "## cargamos datos"
   ]
  },
  {
   "cell_type": "code",
   "execution_count": 2,
   "metadata": {},
   "outputs": [],
   "source": [
    "with open(f'{DATOS_RUTA_BASE}/movie_shorts_list_flated.pkl', 'rb') as f:\n",
    "     movies_shorts_list = pickle.load(f)"
   ]
  },
  {
   "cell_type": "code",
   "execution_count": 3,
   "metadata": {},
   "outputs": [
    {
     "data": {
      "text/plain": [
       "[('movie', \"S. Lubin's Passion Play\", '1903-1', 'tt11166772'),\n",
       " ('movie', 'The Story of the Kelly Gang', '1906-12', 'tt0000574')]"
      ]
     },
     "execution_count": 3,
     "metadata": {},
     "output_type": "execute_result"
    }
   ],
   "source": [
    "movies_shorts_list[:2]"
   ]
  },
  {
   "cell_type": "markdown",
   "metadata": {},
   "source": [
    "---\n",
    "---\n",
    "## Obtenemos Información Adicional de la película\n",
    "\n",
    "#### para esto, voy a utilizar `BeautifulSup` ya que es más rápido que Selenium y como ya tenemos las id de las películas, podemos buscar por la URL y obtener toda la información que necesitamos de una sola página sin interactuar con nada de la misma."
   ]
  },
  {
   "cell_type": "code",
   "execution_count": 6,
   "metadata": {},
   "outputs": [],
   "source": [
    "from bs4 import BeautifulSoup"
   ]
  },
  {
   "cell_type": "markdown",
   "metadata": {},
   "source": [
    "#### comprobamos duplicados y eliminamos los que tenemos"
   ]
  },
  {
   "cell_type": "code",
   "execution_count": 5,
   "metadata": {},
   "outputs": [
    {
     "data": {
      "text/plain": [
       "28000"
      ]
     },
     "execution_count": 5,
     "metadata": {},
     "output_type": "execute_result"
    }
   ],
   "source": [
    "len(movies_shorts_list)"
   ]
  },
  {
   "cell_type": "code",
   "execution_count": 7,
   "metadata": {},
   "outputs": [],
   "source": [
    "df = pd.DataFrame(movies_shorts_list, columns=['tipo', 'nombre', 'fecha', 'id'])"
   ]
  },
  {
   "cell_type": "code",
   "execution_count": 10,
   "metadata": {},
   "outputs": [
    {
     "data": {
      "text/html": [
       "<div>\n",
       "<style scoped>\n",
       "    .dataframe tbody tr th:only-of-type {\n",
       "        vertical-align: middle;\n",
       "    }\n",
       "\n",
       "    .dataframe tbody tr th {\n",
       "        vertical-align: top;\n",
       "    }\n",
       "\n",
       "    .dataframe thead th {\n",
       "        text-align: right;\n",
       "    }\n",
       "</style>\n",
       "<table border=\"1\" class=\"dataframe\">\n",
       "  <thead>\n",
       "    <tr style=\"text-align: right;\">\n",
       "      <th></th>\n",
       "      <th>tipo</th>\n",
       "      <th>nombre</th>\n",
       "      <th>fecha</th>\n",
       "      <th>id</th>\n",
       "    </tr>\n",
       "  </thead>\n",
       "  <tbody>\n",
       "    <tr>\n",
       "      <th>0</th>\n",
       "      <td>movie</td>\n",
       "      <td>S. Lubin's Passion Play</td>\n",
       "      <td>1903-1</td>\n",
       "      <td>tt11166772</td>\n",
       "    </tr>\n",
       "    <tr>\n",
       "      <th>1</th>\n",
       "      <td>movie</td>\n",
       "      <td>The Story of the Kelly Gang</td>\n",
       "      <td>1906-12</td>\n",
       "      <td>tt0000574</td>\n",
       "    </tr>\n",
       "    <tr>\n",
       "      <th>2</th>\n",
       "      <td>movie</td>\n",
       "      <td>Robbery Under Arms</td>\n",
       "      <td>1907-11</td>\n",
       "      <td>tt0000615</td>\n",
       "    </tr>\n",
       "    <tr>\n",
       "      <th>3</th>\n",
       "      <td>movie</td>\n",
       "      <td>L'enfant prodigue</td>\n",
       "      <td>1907-6</td>\n",
       "      <td>tt0000591</td>\n",
       "    </tr>\n",
       "    <tr>\n",
       "      <th>4</th>\n",
       "      <td>movie</td>\n",
       "      <td>Violante</td>\n",
       "      <td>0-0</td>\n",
       "      <td>tt0176294</td>\n",
       "    </tr>\n",
       "  </tbody>\n",
       "</table>\n",
       "</div>"
      ],
      "text/plain": [
       "    tipo                       nombre    fecha          id\n",
       "0  movie      S. Lubin's Passion Play   1903-1  tt11166772\n",
       "1  movie  The Story of the Kelly Gang  1906-12   tt0000574\n",
       "2  movie           Robbery Under Arms  1907-11   tt0000615\n",
       "3  movie            L'enfant prodigue   1907-6   tt0000591\n",
       "4  movie                     Violante      0-0   tt0176294"
      ]
     },
     "execution_count": 10,
     "metadata": {},
     "output_type": "execute_result"
    }
   ],
   "source": [
    "df.head()"
   ]
  },
  {
   "cell_type": "code",
   "execution_count": 9,
   "metadata": {},
   "outputs": [
    {
     "data": {
      "text/plain": [
       "27251"
      ]
     },
     "execution_count": 9,
     "metadata": {},
     "output_type": "execute_result"
    }
   ],
   "source": [
    "df.duplicated().sum()"
   ]
  },
  {
   "cell_type": "code",
   "execution_count": 11,
   "metadata": {},
   "outputs": [],
   "source": [
    "df.drop_duplicates(inplace=True)"
   ]
  },
  {
   "cell_type": "code",
   "execution_count": 13,
   "metadata": {},
   "outputs": [
    {
     "data": {
      "text/plain": [
       "(749, 4)"
      ]
     },
     "execution_count": 13,
     "metadata": {},
     "output_type": "execute_result"
    }
   ],
   "source": [
    "df.shape"
   ]
  },
  {
   "cell_type": "code",
   "execution_count": 20,
   "metadata": {},
   "outputs": [],
   "source": [
    "movie_shorts_noduplicated = list(df.itertuples(index=False, name=None))"
   ]
  },
  {
   "cell_type": "markdown",
   "metadata": {},
   "source": [
    "#### guardamos nuestra tupla sin duplicados"
   ]
  },
  {
   "cell_type": "code",
   "execution_count": 21,
   "metadata": {},
   "outputs": [],
   "source": [
    "with open(f'{DATOS_RUTA_BASE}/movie_shorts_noduplicated.pkl', 'wb') as f:\n",
    "    pickle.dump(movie_shorts_noduplicated, f)"
   ]
  },
  {
   "cell_type": "markdown",
   "metadata": {},
   "source": [
    "---\n",
    "---\n",
    "## comenzamos con las llamadas http para obtener la información adicional"
   ]
  },
  {
   "cell_type": "code",
   "execution_count": 79,
   "metadata": {},
   "outputs": [],
   "source": [
    "# url = f'https://www.imdb.com/es-es/title/tt0356838/'\n",
    "\n",
    "# soup = BeautifulSoup(requests.get(url, headers={\"User-Agent\": \"Chrome\"}).content, 'html.parser')"
   ]
  },
  {
   "cell_type": "code",
   "execution_count": null,
   "metadata": {},
   "outputs": [
    {
     "data": {
      "text/plain": [
       "'6,7/10'"
      ]
     },
     "execution_count": 93,
     "metadata": {},
     "output_type": "execute_result"
    }
   ],
   "source": [
    "# try:\n",
    "#     rate = soup.find('div', {'class': 'sc-d541859f-2 kxphVf'}).get_text()\n",
    "# except:\n",
    "#     rate = 'unknown'\n",
    "\n",
    "# rate"
   ]
  },
  {
   "cell_type": "code",
   "execution_count": null,
   "metadata": {},
   "outputs": [
    {
     "data": {
      "text/plain": [
       "['Alfred Rolfe']"
      ]
     },
     "execution_count": 94,
     "metadata": {},
     "output_type": "execute_result"
    }
   ],
   "source": [
    "# try:\n",
    "#     li_directors = soup.find('ul', {'class': 'ipc-inline-list ipc-inline-list--show-dividers ipc-inline-list--inline ipc-metadata-list-item__list-content baseAlt'}).find_all('a')\n",
    "#     directors = [item.get_text() for item in li_directors]\n",
    "#     directors\n",
    "# except:\n",
    "#     directors = 'unknown'\n",
    "\n",
    "# directors"
   ]
  },
  {
   "cell_type": "code",
   "execution_count": null,
   "metadata": {},
   "outputs": [
    {
     "data": {
      "text/plain": [
       "['Arthur Wright']"
      ]
     },
     "execution_count": 95,
     "metadata": {},
     "output_type": "execute_result"
    }
   ],
   "source": [
    "# try:\n",
    "#     li_writers = soup.find_all('ul', {'class': 'ipc-inline-list ipc-inline-list--show-dividers ipc-inline-list--inline ipc-metadata-list-item__list-content baseAlt'})[1].find_all('a')\n",
    "#     writers = [item.get_text() for item in li_writers]\n",
    "#     writers\n",
    "# except:\n",
    "#     writers = 'unknown'\n",
    "\n",
    "# writers"
   ]
  },
  {
   "cell_type": "code",
   "execution_count": 112,
   "metadata": {},
   "outputs": [
    {
     "data": {
      "text/plain": [
       "'The story of the Eureka Stockade, where 12,000 gold miners rose up against the government.'"
      ]
     },
     "execution_count": 112,
     "metadata": {},
     "output_type": "execute_result"
    }
   ],
   "source": [
    "# try:\n",
    "#     argument = soup.find('span', {'class' : 'sc-3ac15c8d-2 fXTzFP'}).get_text()\n",
    "# except:\n",
    "#     argument = 'unknown'\n",
    "\n",
    "# argument"
   ]
  },
  {
   "cell_type": "code",
   "execution_count": 118,
   "metadata": {},
   "outputs": [
    {
     "data": {
      "text/plain": [
       "60"
      ]
     },
     "execution_count": 118,
     "metadata": {},
     "output_type": "execute_result"
    }
   ],
   "source": [
    "# try:\n",
    "#     duration = soup.find('ul', {'class': 'ipc-inline-list ipc-inline-list--show-dividers sc-ec65ba05-2 joVhBE baseAlt'}).find_all('li')[1].get_text()\n",
    "# except:\n",
    "#     duration = '0'\n",
    "\n",
    "# if duration.find('h') != -1:\n",
    "#     duration = int(duration.replace('h','')) * 60\n",
    "\n",
    "# duration"
   ]
  },
  {
   "cell_type": "markdown",
   "metadata": {},
   "source": [
    "## funcion para el 'scrapeo'"
   ]
  },
  {
   "cell_type": "code",
   "execution_count": 124,
   "metadata": {},
   "outputs": [],
   "source": [
    "def get_movie_short_details(register):\n",
    "    url = f'https://www.imdb.com/es-es/title/{register[3]}/'\n",
    "\n",
    "    soup = BeautifulSoup(requests.get(url, headers={\"User-Agent\": \"Chrome\"}).content, 'html.parser')\n",
    "\n",
    "    try:\n",
    "        rate = soup.find('div', {'class': 'sc-d541859f-2 kxphVf'}).get_text()\n",
    "    except:\n",
    "        rate = 'unknown'\n",
    "\n",
    "\n",
    "    try:\n",
    "        li_directors = soup.find('ul', {'class': 'ipc-inline-list ipc-inline-list--show-dividers ipc-inline-list--inline ipc-metadata-list-item__list-content baseAlt'}).find_all('a')\n",
    "        directors = [item.get_text() for item in li_directors]\n",
    "        directors\n",
    "    except:\n",
    "        directors = 'unknown'\n",
    "\n",
    "\n",
    "    try:\n",
    "        li_writers = soup.find_all('ul', {'class': 'ipc-inline-list ipc-inline-list--show-dividers ipc-inline-list--inline ipc-metadata-list-item__list-content baseAlt'})[1].find_all('a')\n",
    "        writers = [item.get_text() for item in li_writers]\n",
    "        writers\n",
    "    except:\n",
    "        writers = 'unknown'\n",
    "\n",
    "\n",
    "    try:\n",
    "        argument = soup.find('span', {'class' : 'sc-3ac15c8d-2 fXTzFP'}).get_text()\n",
    "    except:\n",
    "        argument = 'unknown'\n",
    "\n",
    "\n",
    "    try:\n",
    "        duration = soup.find('ul', {'class': 'ipc-inline-list ipc-inline-list--show-dividers sc-ec65ba05-2 joVhBE baseAlt'}).find_all('li')[1].get_text()\n",
    "    except:\n",
    "        duration = '0'\n",
    "\n",
    "    if duration.find('h') != -1:\n",
    "        duration = int(duration.split('h')[0]) * 60\n",
    "\n",
    "\n",
    "    return register + (rate, directors, writers, argument, duration, )\n"
   ]
  },
  {
   "cell_type": "code",
   "execution_count": 125,
   "metadata": {},
   "outputs": [],
   "source": [
    "movies_shorts_detailed = list(map(get_movie_short_details, movie_shorts_noduplicated))"
   ]
  },
  {
   "cell_type": "code",
   "execution_count": 127,
   "metadata": {},
   "outputs": [
    {
     "data": {
      "text/plain": [
       "[('movie',\n",
       "  \"S. Lubin's Passion Play\",\n",
       "  '1903-1',\n",
       "  'tt11166772',\n",
       "  'unknown',\n",
       "  'unknown',\n",
       "  'unknown',\n",
       "  '',\n",
       "  60),\n",
       " ('movie',\n",
       "  'The Story of the Kelly Gang',\n",
       "  '1906-12',\n",
       "  'tt0000574',\n",
       "  '6,0/10',\n",
       "  ['Charles Tait'],\n",
       "  ['Charles Tait'],\n",
       "  'Originalmente de 70 minutos de duración, sólo 17 minutos del primer largometraje narrativo del mundo sobrevivieron en fotogramas y otros fragmentos y cuentan la historia de Ned Kelly, un infame forajido australiano del siglo XIX.',\n",
       "  'Not Rated'),\n",
       " ('movie',\n",
       "  'Robbery Under Arms',\n",
       "  '1907-11',\n",
       "  'tt0000615',\n",
       "  '4,3/10',\n",
       "  ['Charles MacMahon'],\n",
       "  ['Rolf Boldrewood', 'Charles MacMahon'],\n",
       "  '',\n",
       "  '0')]"
      ]
     },
     "execution_count": 127,
     "metadata": {},
     "output_type": "execute_result"
    }
   ],
   "source": [
    "movies_shorts_detailed[:3]"
   ]
  },
  {
   "cell_type": "markdown",
   "metadata": {},
   "source": [
    "---\n",
    "---\n",
    "## guardamos los datos"
   ]
  },
  {
   "cell_type": "code",
   "execution_count": 126,
   "metadata": {},
   "outputs": [],
   "source": [
    "with open(f'{DATOS_RUTA_BASE}/movies_shorts_detailed.pkl', 'wb') as f:\n",
    "    pickle.dump(movies_shorts_detailed, f)"
   ]
  }
 ],
 "metadata": {
  "kernelspec": {
   "display_name": "dev",
   "language": "python",
   "name": "python3"
  },
  "language_info": {
   "codemirror_mode": {
    "name": "ipython",
    "version": 3
   },
   "file_extension": ".py",
   "mimetype": "text/x-python",
   "name": "python",
   "nbconvert_exporter": "python",
   "pygments_lexer": "ipython3",
   "version": "3.11.8"
  }
 },
 "nbformat": 4,
 "nbformat_minor": 2
}
