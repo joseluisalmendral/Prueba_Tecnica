{
 "cells": [
  {
   "cell_type": "markdown",
   "metadata": {},
   "source": [
    "# Fase 1: Extracción de Datos de API de MoviesDataset\n",
    "En esta fase se utilizará la API de MoviesDataset para extraer información relevante sobre películas y cortometrajes.\n",
    "\n",
    "**Requerimientos:**\n",
    "- Películas desde 1990 hasta la actualidad.\n",
    "- Géneros: Drama, Comedy, Action, Fantasy, Horror, Mystery, Romance, Thriller.\n",
    "- Información necesaria:\n",
    "  - Tipo (corto o película).\n",
    "  - Nombre.\n",
    "  - Año y mes de estreno.\n",
    "  - ID de la película.\n",
    "\n",
    "**Nota:** Los datos extraídos deberán almacenarse en una lista de tuplas.\n",
    "\n",
    "---"
   ]
  },
  {
   "cell_type": "markdown",
   "metadata": {},
   "source": [
    "## Importamos librerías, configuraciones y variables."
   ]
  },
  {
   "cell_type": "code",
   "execution_count": 104,
   "metadata": {},
   "outputs": [
    {
     "name": "stdout",
     "output_type": "stream",
     "text": [
      "The autoreload extension is already loaded. To reload it, use:\n",
      "  %reload_ext autoreload\n"
     ]
    },
    {
     "data": {
      "text/plain": [
       "True"
      ]
     },
     "execution_count": 104,
     "metadata": {},
     "output_type": "execute_result"
    }
   ],
   "source": [
    "%load_ext autoreload\n",
    "%autoreload 2\n",
    "\n",
    "from config import *\n",
    "\n",
    "import sys\n",
    "sys.path.append('../')\n",
    "\n",
    "import os\n",
    "from dotenv import load_dotenv\n",
    "\n",
    "load_dotenv()"
   ]
  },
  {
   "cell_type": "markdown",
   "metadata": {},
   "source": [
    "---\n",
    "---\n",
    "## Hacemos llamada a la API"
   ]
  },
  {
   "cell_type": "markdown",
   "metadata": {},
   "source": [
    "### Definimos variables globales procedentes de nuestro archivo .env"
   ]
  },
  {
   "cell_type": "code",
   "execution_count": 105,
   "metadata": {},
   "outputs": [],
   "source": [
    "API_URL = os.getenv('API_URL')\n",
    "API_KEY = os.getenv('API_KEY')\n",
    "API_HOST = os.getenv('API_HOST')"
   ]
  },
  {
   "cell_type": "markdown",
   "metadata": {},
   "source": [
    "### Definimos varibales para los bucles que van a realizar todas las llamadas a las apis y así obtener 50 peliculas y cortos por generos."
   ]
  },
  {
   "cell_type": "code",
   "execution_count": 106,
   "metadata": {},
   "outputs": [],
   "source": [
    "genres = ['Drama', 'Comedy', 'Action', 'Fantasy', 'Horror', 'Mystery', 'Romance', 'Thriller']\n",
    "tipes = ['movie', 'short']\n",
    "years_range = [i for i in range(1990,2025)]"
   ]
  },
  {
   "cell_type": "code",
   "execution_count": 107,
   "metadata": {},
   "outputs": [],
   "source": [
    "def get_registers(movie):\n",
    "    movie_type = movie['titleType']['id']\n",
    "    movie_name = movie['titleText']['text']\n",
    "\n",
    "    movie_year = 0\n",
    "    try:\n",
    "        movie_year = movie['releaseDate']['year']\n",
    "    except:\n",
    "        movie_year = 0\n",
    "\n",
    "    movie_month = 0\n",
    "    try:\n",
    "        movie_month = movie['releaseDate']['month']\n",
    "    except:\n",
    "        movie_month = 0\n",
    "\n",
    "    movie_year_month = f\"{movie_year}-{movie_month}\"\n",
    "\n",
    "    movie_id = movie['id']\n",
    "\n",
    "    return (movie_type, movie_name, movie_year_month, movie_id)"
   ]
  },
  {
   "cell_type": "code",
   "execution_count": 108,
   "metadata": {},
   "outputs": [],
   "source": [
    "def get_all_registers(api_url, api_key, api_host, genres_, tipes_, years_range_):\n",
    "    all_registers = []\n",
    "\n",
    "    url = api_url\n",
    "\n",
    "    headers = {\n",
    "        \"x-rapidapi-key\": api_key,\n",
    "        \"x-rapidapi-host\": api_host\n",
    "    }\n",
    "\n",
    "    for tipe in tqdm(tipes_):\n",
    "        for genre in genres_:\n",
    "            for year in years_range_:\n",
    "\n",
    "                querystring = {\"genre\":genre,\"titleType\":tipe,\"year\":year,\"sort\":\"year.incr\",\"endYear\":\"2024\",\"limit\":\"50\"}\n",
    "\n",
    "                response = requests.get(url, headers=headers, params=querystring).json()\n",
    "    \n",
    "                results = response['results']\n",
    "    \n",
    "                all_registers.append(list(map(get_registers, results)))\n",
    "    \n",
    "\n",
    "    return all_registers"
   ]
  },
  {
   "cell_type": "code",
   "execution_count": 109,
   "metadata": {},
   "outputs": [
    {
     "name": "stderr",
     "output_type": "stream",
     "text": [
      "100%|██████████| 2/2 [03:11<00:00, 95.77s/it] \n"
     ]
    }
   ],
   "source": [
    "movie_shorts_list = get_all_registers(API_URL, API_KEY, API_HOST, genres, tipes, years_range)"
   ]
  },
  {
   "cell_type": "markdown",
   "metadata": {},
   "source": [
    "### aplanamos nuestra lista"
   ]
  },
  {
   "cell_type": "code",
   "execution_count": 112,
   "metadata": {},
   "outputs": [],
   "source": [
    "movie_shorts_list_flated = [item for row in movie_shorts_list for item in row]"
   ]
  },
  {
   "cell_type": "code",
   "execution_count": 117,
   "metadata": {},
   "outputs": [
    {
     "data": {
      "text/plain": [
       "[('movie', \"S. Lubin's Passion Play\", '1903-1', 'tt11166772'),\n",
       " ('movie', 'The Story of the Kelly Gang', '1906-12', 'tt0000574'),\n",
       " ('movie', 'Robbery Under Arms', '1907-11', 'tt0000615'),\n",
       " ('movie', \"L'enfant prodigue\", '1907-6', 'tt0000591')]"
      ]
     },
     "execution_count": 117,
     "metadata": {},
     "output_type": "execute_result"
    }
   ],
   "source": [
    "movie_shorts_list_flated[:4]"
   ]
  },
  {
   "cell_type": "markdown",
   "metadata": {},
   "source": [
    "---\n",
    "---\n",
    "## guardamos los datos"
   ]
  },
  {
   "cell_type": "code",
   "execution_count": 118,
   "metadata": {},
   "outputs": [],
   "source": [
    "with open(f'{DATOS_RUTA_BASE}/movie_shorts_list_flated.pkl', 'wb') as f:\n",
    "    pickle.dump(movie_shorts_list_flated, f)"
   ]
  }
 ],
 "metadata": {
  "kernelspec": {
   "display_name": "dev",
   "language": "python",
   "name": "python3"
  },
  "language_info": {
   "codemirror_mode": {
    "name": "ipython",
    "version": 3
   },
   "file_extension": ".py",
   "mimetype": "text/x-python",
   "name": "python",
   "nbconvert_exporter": "python",
   "pygments_lexer": "ipython3",
   "version": "3.11.8"
  }
 },
 "nbformat": 4,
 "nbformat_minor": 2
}
